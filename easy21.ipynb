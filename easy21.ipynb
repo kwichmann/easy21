{
 "cells": [
  {
   "cell_type": "markdown",
   "metadata": {},
   "source": [
    "# Reinforcement learning for Easy21"
   ]
  },
  {
   "cell_type": "code",
   "execution_count": 2,
   "metadata": {
    "collapsed": true
   },
   "outputs": [],
   "source": [
    "import numpy as np\n",
    "from random import random"
   ]
  },
  {
   "cell_type": "code",
   "execution_count": 3,
   "metadata": {
    "collapsed": true
   },
   "outputs": [],
   "source": [
    "def new_card():\n",
    "    value = int(random() * 10) + 1\n",
    "    if random() < (2/3):\n",
    "        return value\n",
    "    else:\n",
    "        return -value"
   ]
  },
  {
   "cell_type": "code",
   "execution_count": 12,
   "metadata": {},
   "outputs": [],
   "source": [
    "def step(dealer_card, player_sum, action):\n",
    "    if action == \"hit\":\n",
    "        player_sum += new_card()\n",
    "        if (player_sum < 1 or player_sum > 21):\n",
    "            return (-1, -1, -1)\n",
    "        else:\n",
    "            return (dealer_card, player_sum, 0)\n",
    "    if action == \"stick\":\n",
    "        while dealer_card <= 17:\n",
    "            dealer_card += new_card()\n",
    "            if (dealer_card < 0 or dealer_card > 21):\n",
    "                return (-1, -1, 1)\n",
    "        if player_sum > dealer_card:\n",
    "            return (-1, -1, 1)\n",
    "        if player_sum == dealer_card:\n",
    "            return (-1, -1, 0)\n",
    "        return(-1, -1, -1)\n",
    "    print(\"Unknown action.\")"
   ]
  },
  {
   "cell_type": "code",
   "execution_count": 19,
   "metadata": {},
   "outputs": [
    {
     "name": "stdout",
     "output_type": "stream",
     "text": [
      "Unknown action.\n"
     ]
    }
   ],
   "source": [
    "step(5, 7, \"stic\")"
   ]
  }
 ],
 "metadata": {
  "kernelspec": {
   "display_name": "Python 3",
   "language": "python",
   "name": "python3"
  },
  "language_info": {
   "codemirror_mode": {
    "name": "ipython",
    "version": 3
   },
   "file_extension": ".py",
   "mimetype": "text/x-python",
   "name": "python",
   "nbconvert_exporter": "python",
   "pygments_lexer": "ipython3",
   "version": "3.6.2"
  }
 },
 "nbformat": 4,
 "nbformat_minor": 2
}
